{
 "cells": [
  {
   "cell_type": "code",
   "execution_count": 69,
   "metadata": {},
   "outputs": [],
   "source": [
    "import polars as pl\n",
    "import matplotlib.pyplot as plt\n",
    "import numpy as np\n",
    "import seaborn as sns\n",
    "import pandas as pd\n",
    "import duckdb as db\n",
    "\n",
    "sns.set_theme(style=\"whitegrid\")"
   ]
  },
  {
   "cell_type": "code",
   "execution_count": 59,
   "metadata": {},
   "outputs": [
    {
     "data": {
      "text/html": [
       "<div><style>\n",
       ".dataframe > thead > tr,\n",
       ".dataframe > tbody > tr {\n",
       "  text-align: right;\n",
       "  white-space: pre-wrap;\n",
       "}\n",
       "</style>\n",
       "<small>shape: (5, 10)</small><table border=\"1\" class=\"dataframe\"><thead><tr><th>Holiday</th><th>Temperature</th><th>Rainfall_last_hour</th><th>Snowfall_last_hour</th><th>Cloud_Cover</th><th>Weather</th><th>Weather_Desc</th><th>TimeStamp</th><th>Date</th><th>Traffic_Vol</th></tr><tr><td>str</td><td>f64</td><td>i64</td><td>i64</td><td>i64</td><td>str</td><td>str</td><td>str</td><td>str</td><td>i64</td></tr></thead><tbody><tr><td>null</td><td>289.28</td><td>0</td><td>0</td><td>40</td><td>&quot;Cloudy skies&quot;</td><td>&quot;Partly cloudy skies&quot;</td><td>&quot;02/10/08 9:00&quot;</td><td>&quot;02/10/08&quot;</td><td>5555</td></tr><tr><td>null</td><td>290.26</td><td>0</td><td>0</td><td>75</td><td>&quot;Cloudy skies&quot;</td><td>&quot;Fragmented clouds&quot;</td><td>&quot;02/10/08 10:00&quot;</td><td>&quot;02/10/08&quot;</td><td>4525</td></tr><tr><td>null</td><td>290.28</td><td>0</td><td>0</td><td>90</td><td>&quot;Cloudy skies&quot;</td><td>&quot;Full cloud cover&quot;</td><td>&quot;02/10/08 11:00&quot;</td><td>&quot;02/10/08&quot;</td><td>4772</td></tr><tr><td>null</td><td>290.33</td><td>0</td><td>0</td><td>90</td><td>&quot;Cloudy skies&quot;</td><td>&quot;Full cloud cover&quot;</td><td>&quot;02/10/08 12:00&quot;</td><td>&quot;02/10/08&quot;</td><td>5031</td></tr><tr><td>null</td><td>292.14</td><td>0</td><td>0</td><td>75</td><td>&quot;Cloudy skies&quot;</td><td>&quot;Fragmented clouds&quot;</td><td>&quot;02/10/08 13:00&quot;</td><td>&quot;02/10/08&quot;</td><td>4928</td></tr></tbody></table></div>"
      ],
      "text/plain": [
       "shape: (5, 10)\n",
       "┌─────────┬────────────┬────────────┬───────────┬───┬───────────┬───────────┬──────────┬───────────┐\n",
       "│ Holiday ┆ Temperatur ┆ Rainfall_l ┆ Snowfall_ ┆ … ┆ Weather_D ┆ TimeStamp ┆ Date     ┆ Traffic_V │\n",
       "│ ---     ┆ e          ┆ ast_hour   ┆ last_hour ┆   ┆ esc       ┆ ---       ┆ ---      ┆ ol        │\n",
       "│ str     ┆ ---        ┆ ---        ┆ ---       ┆   ┆ ---       ┆ str       ┆ str      ┆ ---       │\n",
       "│         ┆ f64        ┆ i64        ┆ i64       ┆   ┆ str       ┆           ┆          ┆ i64       │\n",
       "╞═════════╪════════════╪════════════╪═══════════╪═══╪═══════════╪═══════════╪══════════╪═══════════╡\n",
       "│ null    ┆ 289.28     ┆ 0          ┆ 0         ┆ … ┆ Partly    ┆ 02/10/08  ┆ 02/10/08 ┆ 5555      │\n",
       "│         ┆            ┆            ┆           ┆   ┆ cloudy    ┆ 9:00      ┆          ┆           │\n",
       "│         ┆            ┆            ┆           ┆   ┆ skies     ┆           ┆          ┆           │\n",
       "│ null    ┆ 290.26     ┆ 0          ┆ 0         ┆ … ┆ Fragmente ┆ 02/10/08  ┆ 02/10/08 ┆ 4525      │\n",
       "│         ┆            ┆            ┆           ┆   ┆ d clouds  ┆ 10:00     ┆          ┆           │\n",
       "│ null    ┆ 290.28     ┆ 0          ┆ 0         ┆ … ┆ Full      ┆ 02/10/08  ┆ 02/10/08 ┆ 4772      │\n",
       "│         ┆            ┆            ┆           ┆   ┆ cloud     ┆ 11:00     ┆          ┆           │\n",
       "│         ┆            ┆            ┆           ┆   ┆ cover     ┆           ┆          ┆           │\n",
       "│ null    ┆ 290.33     ┆ 0          ┆ 0         ┆ … ┆ Full      ┆ 02/10/08  ┆ 02/10/08 ┆ 5031      │\n",
       "│         ┆            ┆            ┆           ┆   ┆ cloud     ┆ 12:00     ┆          ┆           │\n",
       "│         ┆            ┆            ┆           ┆   ┆ cover     ┆           ┆          ┆           │\n",
       "│ null    ┆ 292.14     ┆ 0          ┆ 0         ┆ … ┆ Fragmente ┆ 02/10/08  ┆ 02/10/08 ┆ 4928      │\n",
       "│         ┆            ┆            ┆           ┆   ┆ d clouds  ┆ 13:00     ┆          ┆           │\n",
       "└─────────┴────────────┴────────────┴───────────┴───┴───────────┴───────────┴──────────┴───────────┘"
      ]
     },
     "execution_count": 59,
     "metadata": {},
     "output_type": "execute_result"
    }
   ],
   "source": [
    "df_train = pl.read_csv(\"../data/raw/Train.csv\", ignore_errors=True)\n",
    "df_train.head()"
   ]
  },
  {
   "cell_type": "code",
   "execution_count": 60,
   "metadata": {},
   "outputs": [
    {
     "data": {
      "text/html": [
       "<div><style>\n",
       ".dataframe > thead > tr,\n",
       ".dataframe > tbody > tr {\n",
       "  text-align: right;\n",
       "  white-space: pre-wrap;\n",
       "}\n",
       "</style>\n",
       "<small>shape: (9, 11)</small><table border=\"1\" class=\"dataframe\"><thead><tr><th>statistic</th><th>Holiday</th><th>Temperature</th><th>Rainfall_last_hour</th><th>Snowfall_last_hour</th><th>Cloud_Cover</th><th>Weather</th><th>Weather_Desc</th><th>TimeStamp</th><th>Date</th><th>Traffic_Vol</th></tr><tr><td>str</td><td>str</td><td>f64</td><td>f64</td><td>f64</td><td>f64</td><td>str</td><td>str</td><td>str</td><td>str</td><td>f64</td></tr></thead><tbody><tr><td>&quot;count&quot;</td><td>&quot;50&quot;</td><td>38373.0</td><td>36729.0</td><td>38342.0</td><td>38373.0</td><td>&quot;38373&quot;</td><td>&quot;38373&quot;</td><td>&quot;38373&quot;</td><td>&quot;38373&quot;</td><td>38373.0</td></tr><tr><td>&quot;null_count&quot;</td><td>&quot;38323&quot;</td><td>0.0</td><td>1644.0</td><td>31.0</td><td>0.0</td><td>&quot;0&quot;</td><td>&quot;0&quot;</td><td>&quot;0&quot;</td><td>&quot;0&quot;</td><td>0.0</td></tr><tr><td>&quot;mean&quot;</td><td>null</td><td>281.152767</td><td>0.000953</td><td>0.0</td><td>44.821098</td><td>null</td><td>null</td><td>null</td><td>null</td><td>3293.947567</td></tr><tr><td>&quot;std&quot;</td><td>null</td><td>13.813324</td><td>0.098862</td><td>0.0</td><td>38.749566</td><td>null</td><td>null</td><td>null</td><td>null</td><td>1988.31154</td></tr><tr><td>&quot;min&quot;</td><td>&quot;1&quot;</td><td>0.3</td><td>0.0</td><td>0.0</td><td>0.0</td><td>&quot;Airborne particles&quot;</td><td>&quot;Airborne smoke&quot;</td><td>&quot;01/01/09 0:00&quot;</td><td>&quot;01/01/09&quot;</td><td>4.0</td></tr><tr><td>&quot;25%&quot;</td><td>null</td><td>271.91</td><td>0.0</td><td>0.0</td><td>1.0</td><td>null</td><td>null</td><td>null</td><td>null</td><td>1246.0</td></tr><tr><td>&quot;50%&quot;</td><td>null</td><td>281.99</td><td>0.0</td><td>0.0</td><td>40.0</td><td>null</td><td>null</td><td>null</td><td>null</td><td>3425.0</td></tr><tr><td>&quot;75%&quot;</td><td>null</td><td>292.14</td><td>0.0</td><td>0.0</td><td>90.0</td><td>null</td><td>null</td><td>null</td><td>null</td><td>4964.0</td></tr><tr><td>&quot;max&quot;</td><td>&quot;1&quot;</td><td>310.97</td><td>16.0</td><td>0.0</td><td>101.0</td><td>&quot;Sudden windstorm&quot;</td><td>&quot;Torrential downpour&quot;</td><td>&quot;31/12/13 9:00&quot;</td><td>&quot;31/12/13&quot;</td><td>7289.0</td></tr></tbody></table></div>"
      ],
      "text/plain": [
       "shape: (9, 11)\n",
       "┌────────────┬─────────┬────────────┬───────────┬───┬───────────┬───────────┬──────────┬───────────┐\n",
       "│ statistic  ┆ Holiday ┆ Temperatur ┆ Rainfall_ ┆ … ┆ Weather_D ┆ TimeStamp ┆ Date     ┆ Traffic_V │\n",
       "│ ---        ┆ ---     ┆ e          ┆ last_hour ┆   ┆ esc       ┆ ---       ┆ ---      ┆ ol        │\n",
       "│ str        ┆ str     ┆ ---        ┆ ---       ┆   ┆ ---       ┆ str       ┆ str      ┆ ---       │\n",
       "│            ┆         ┆ f64        ┆ f64       ┆   ┆ str       ┆           ┆          ┆ f64       │\n",
       "╞════════════╪═════════╪════════════╪═══════════╪═══╪═══════════╪═══════════╪══════════╪═══════════╡\n",
       "│ count      ┆ 50      ┆ 38373.0    ┆ 36729.0   ┆ … ┆ 38373     ┆ 38373     ┆ 38373    ┆ 38373.0   │\n",
       "│ null_count ┆ 38323   ┆ 0.0        ┆ 1644.0    ┆ … ┆ 0         ┆ 0         ┆ 0        ┆ 0.0       │\n",
       "│ mean       ┆ null    ┆ 281.152767 ┆ 0.000953  ┆ … ┆ null      ┆ null      ┆ null     ┆ 3293.9475 │\n",
       "│            ┆         ┆            ┆           ┆   ┆           ┆           ┆          ┆ 67        │\n",
       "│ std        ┆ null    ┆ 13.813324  ┆ 0.098862  ┆ … ┆ null      ┆ null      ┆ null     ┆ 1988.3115 │\n",
       "│            ┆         ┆            ┆           ┆   ┆           ┆           ┆          ┆ 4         │\n",
       "│ min        ┆ 1       ┆ 0.3        ┆ 0.0       ┆ … ┆ Airborne  ┆ 01/01/09  ┆ 01/01/09 ┆ 4.0       │\n",
       "│            ┆         ┆            ┆           ┆   ┆ smoke     ┆ 0:00      ┆          ┆           │\n",
       "│ 25%        ┆ null    ┆ 271.91     ┆ 0.0       ┆ … ┆ null      ┆ null      ┆ null     ┆ 1246.0    │\n",
       "│ 50%        ┆ null    ┆ 281.99     ┆ 0.0       ┆ … ┆ null      ┆ null      ┆ null     ┆ 3425.0    │\n",
       "│ 75%        ┆ null    ┆ 292.14     ┆ 0.0       ┆ … ┆ null      ┆ null      ┆ null     ┆ 4964.0    │\n",
       "│ max        ┆ 1       ┆ 310.97     ┆ 16.0      ┆ … ┆ Torrentia ┆ 31/12/13  ┆ 31/12/13 ┆ 7289.0    │\n",
       "│            ┆         ┆            ┆           ┆   ┆ l         ┆ 9:00      ┆          ┆           │\n",
       "│            ┆         ┆            ┆           ┆   ┆ downpour  ┆           ┆          ┆           │\n",
       "└────────────┴─────────┴────────────┴───────────┴───┴───────────┴───────────┴──────────┴───────────┘"
      ]
     },
     "execution_count": 60,
     "metadata": {},
     "output_type": "execute_result"
    }
   ],
   "source": [
    "df_train.describe()"
   ]
  },
  {
   "cell_type": "code",
   "execution_count": 62,
   "metadata": {},
   "outputs": [
    {
     "data": {
      "text/html": [
       "<div><style>\n",
       ".dataframe > thead > tr,\n",
       ".dataframe > tbody > tr {\n",
       "  text-align: right;\n",
       "  white-space: pre-wrap;\n",
       "}\n",
       "</style>\n",
       "<small>shape: (5, 10)</small><table border=\"1\" class=\"dataframe\"><thead><tr><th>Holiday</th><th>Temperature</th><th>Rainfall_last_hour</th><th>Snowfall_last_hour</th><th>Cloud_Cover</th><th>Weather</th><th>Weather_Desc</th><th>TimeStamp</th><th>Date</th><th>Traffic_Vol</th></tr><tr><td>i64</td><td>f64</td><td>i64</td><td>i64</td><td>i64</td><td>str</td><td>str</td><td>str</td><td>str</td><td>str</td></tr></thead><tbody><tr><td>null</td><td>297.65</td><td>0</td><td>0</td><td>1</td><td>&quot;Clear skies&quot;</td><td>&quot;Clear skies&quot;</td><td>&quot;01/07/14 0:00&quot;</td><td>&quot;01/07/14&quot;</td><td>null</td></tr><tr><td>null</td><td>297.45</td><td>0</td><td>0</td><td>1</td><td>&quot;Clear skies&quot;</td><td>&quot;Clear skies&quot;</td><td>&quot;01/07/14 1:00&quot;</td><td>&quot;01/07/14&quot;</td><td>null</td></tr><tr><td>null</td><td>296.75</td><td>0</td><td>0</td><td>1</td><td>&quot;Rainfall&quot;</td><td>&quot;Soft rain&quot;</td><td>&quot;01/07/14 2:00&quot;</td><td>&quot;01/07/14&quot;</td><td>null</td></tr><tr><td>null</td><td>296.42</td><td>0</td><td>0</td><td>1</td><td>&quot;Rainfall&quot;</td><td>&quot;Steady rain&quot;</td><td>&quot;01/07/14 3:00&quot;</td><td>&quot;01/07/14&quot;</td><td>null</td></tr><tr><td>null</td><td>295.56</td><td>0</td><td>0</td><td>40</td><td>&quot;Rainfall&quot;</td><td>&quot;Soft rain&quot;</td><td>&quot;01/07/14 4:00&quot;</td><td>&quot;01/07/14&quot;</td><td>null</td></tr></tbody></table></div>"
      ],
      "text/plain": [
       "shape: (5, 10)\n",
       "┌─────────┬────────────┬────────────┬───────────┬───┬───────────┬───────────┬──────────┬───────────┐\n",
       "│ Holiday ┆ Temperatur ┆ Rainfall_l ┆ Snowfall_ ┆ … ┆ Weather_D ┆ TimeStamp ┆ Date     ┆ Traffic_V │\n",
       "│ ---     ┆ e          ┆ ast_hour   ┆ last_hour ┆   ┆ esc       ┆ ---       ┆ ---      ┆ ol        │\n",
       "│ i64     ┆ ---        ┆ ---        ┆ ---       ┆   ┆ ---       ┆ str       ┆ str      ┆ ---       │\n",
       "│         ┆ f64        ┆ i64        ┆ i64       ┆   ┆ str       ┆           ┆          ┆ str       │\n",
       "╞═════════╪════════════╪════════════╪═══════════╪═══╪═══════════╪═══════════╪══════════╪═══════════╡\n",
       "│ null    ┆ 297.65     ┆ 0          ┆ 0         ┆ … ┆ Clear     ┆ 01/07/14  ┆ 01/07/14 ┆ null      │\n",
       "│         ┆            ┆            ┆           ┆   ┆ skies     ┆ 0:00      ┆          ┆           │\n",
       "│ null    ┆ 297.45     ┆ 0          ┆ 0         ┆ … ┆ Clear     ┆ 01/07/14  ┆ 01/07/14 ┆ null      │\n",
       "│         ┆            ┆            ┆           ┆   ┆ skies     ┆ 1:00      ┆          ┆           │\n",
       "│ null    ┆ 296.75     ┆ 0          ┆ 0         ┆ … ┆ Soft rain ┆ 01/07/14  ┆ 01/07/14 ┆ null      │\n",
       "│         ┆            ┆            ┆           ┆   ┆           ┆ 2:00      ┆          ┆           │\n",
       "│ null    ┆ 296.42     ┆ 0          ┆ 0         ┆ … ┆ Steady    ┆ 01/07/14  ┆ 01/07/14 ┆ null      │\n",
       "│         ┆            ┆            ┆           ┆   ┆ rain      ┆ 3:00      ┆          ┆           │\n",
       "│ null    ┆ 295.56     ┆ 0          ┆ 0         ┆ … ┆ Soft rain ┆ 01/07/14  ┆ 01/07/14 ┆ null      │\n",
       "│         ┆            ┆            ┆           ┆   ┆           ┆ 4:00      ┆          ┆           │\n",
       "└─────────┴────────────┴────────────┴───────────┴───┴───────────┴───────────┴──────────┴───────────┘"
      ]
     },
     "execution_count": 62,
     "metadata": {},
     "output_type": "execute_result"
    }
   ],
   "source": [
    "df_test = pl.read_csv(\"../data/raw/Test.csv\", ignore_errors=True)\n",
    "df_test.head()"
   ]
  },
  {
   "cell_type": "code",
   "execution_count": 63,
   "metadata": {},
   "outputs": [
    {
     "data": {
      "text/html": [
       "<div><style>\n",
       ".dataframe > thead > tr,\n",
       ".dataframe > tbody > tr {\n",
       "  text-align: right;\n",
       "  white-space: pre-wrap;\n",
       "}\n",
       "</style>\n",
       "<small>shape: (9, 11)</small><table border=\"1\" class=\"dataframe\"><thead><tr><th>statistic</th><th>Holiday</th><th>Temperature</th><th>Rainfall_last_hour</th><th>Snowfall_last_hour</th><th>Cloud_Cover</th><th>Weather</th><th>Weather_Desc</th><th>TimeStamp</th><th>Date</th><th>Traffic_Vol</th></tr><tr><td>str</td><td>f64</td><td>f64</td><td>f64</td><td>f64</td><td>f64</td><td>str</td><td>str</td><td>str</td><td>str</td><td>str</td></tr></thead><tbody><tr><td>&quot;count&quot;</td><td>3.0</td><td>2208.0</td><td>1808.0</td><td>2208.0</td><td>2208.0</td><td>&quot;2208&quot;</td><td>&quot;2208&quot;</td><td>&quot;2208&quot;</td><td>&quot;2208&quot;</td><td>&quot;0&quot;</td></tr><tr><td>&quot;null_count&quot;</td><td>2205.0</td><td>0.0</td><td>400.0</td><td>0.0</td><td>0.0</td><td>&quot;0&quot;</td><td>&quot;0&quot;</td><td>&quot;0&quot;</td><td>&quot;0&quot;</td><td>&quot;2208&quot;</td></tr><tr><td>&quot;mean&quot;</td><td>1.0</td><td>294.276254</td><td>0.002212</td><td>0.0</td><td>37.644022</td><td>null</td><td>null</td><td>null</td><td>null</td><td>null</td></tr><tr><td>&quot;std&quot;</td><td>0.0</td><td>5.586447</td><td>0.094072</td><td>0.0</td><td>37.140436</td><td>null</td><td>null</td><td>null</td><td>null</td><td>null</td></tr><tr><td>&quot;min&quot;</td><td>1.0</td><td>274.95</td><td>0.0</td><td>0.0</td><td>0.0</td><td>&quot;Airborne particles&quot;</td><td>&quot;Airborne smoke&quot;</td><td>&quot;01/07/14 0:00&quot;</td><td>&quot;01/07/14&quot;</td><td>null</td></tr><tr><td>&quot;25%&quot;</td><td>1.0</td><td>290.96</td><td>0.0</td><td>0.0</td><td>1.0</td><td>null</td><td>null</td><td>null</td><td>null</td><td>null</td></tr><tr><td>&quot;50%&quot;</td><td>1.0</td><td>294.79</td><td>0.0</td><td>0.0</td><td>21.0</td><td>null</td><td>null</td><td>null</td><td>null</td><td>null</td></tr><tr><td>&quot;75%&quot;</td><td>1.0</td><td>298.18</td><td>0.0</td><td>0.0</td><td>75.0</td><td>null</td><td>null</td><td>null</td><td>null</td><td>null</td></tr><tr><td>&quot;max&quot;</td><td>1.0</td><td>306.68</td><td>4.0</td><td>0.0</td><td>91.0</td><td>&quot;Stormy weather&quot;</td><td>&quot;Stormy weather&quot;</td><td>&quot;31/08/14 9:00&quot;</td><td>&quot;31/08/14&quot;</td><td>null</td></tr></tbody></table></div>"
      ],
      "text/plain": [
       "shape: (9, 11)\n",
       "┌────────────┬─────────┬────────────┬───────────┬───┬───────────┬───────────┬──────────┬───────────┐\n",
       "│ statistic  ┆ Holiday ┆ Temperatur ┆ Rainfall_ ┆ … ┆ Weather_D ┆ TimeStamp ┆ Date     ┆ Traffic_V │\n",
       "│ ---        ┆ ---     ┆ e          ┆ last_hour ┆   ┆ esc       ┆ ---       ┆ ---      ┆ ol        │\n",
       "│ str        ┆ f64     ┆ ---        ┆ ---       ┆   ┆ ---       ┆ str       ┆ str      ┆ ---       │\n",
       "│            ┆         ┆ f64        ┆ f64       ┆   ┆ str       ┆           ┆          ┆ str       │\n",
       "╞════════════╪═════════╪════════════╪═══════════╪═══╪═══════════╪═══════════╪══════════╪═══════════╡\n",
       "│ count      ┆ 3.0     ┆ 2208.0     ┆ 1808.0    ┆ … ┆ 2208      ┆ 2208      ┆ 2208     ┆ 0         │\n",
       "│ null_count ┆ 2205.0  ┆ 0.0        ┆ 400.0     ┆ … ┆ 0         ┆ 0         ┆ 0        ┆ 2208      │\n",
       "│ mean       ┆ 1.0     ┆ 294.276254 ┆ 0.002212  ┆ … ┆ null      ┆ null      ┆ null     ┆ null      │\n",
       "│ std        ┆ 0.0     ┆ 5.586447   ┆ 0.094072  ┆ … ┆ null      ┆ null      ┆ null     ┆ null      │\n",
       "│ min        ┆ 1.0     ┆ 274.95     ┆ 0.0       ┆ … ┆ Airborne  ┆ 01/07/14  ┆ 01/07/14 ┆ null      │\n",
       "│            ┆         ┆            ┆           ┆   ┆ smoke     ┆ 0:00      ┆          ┆           │\n",
       "│ 25%        ┆ 1.0     ┆ 290.96     ┆ 0.0       ┆ … ┆ null      ┆ null      ┆ null     ┆ null      │\n",
       "│ 50%        ┆ 1.0     ┆ 294.79     ┆ 0.0       ┆ … ┆ null      ┆ null      ┆ null     ┆ null      │\n",
       "│ 75%        ┆ 1.0     ┆ 298.18     ┆ 0.0       ┆ … ┆ null      ┆ null      ┆ null     ┆ null      │\n",
       "│ max        ┆ 1.0     ┆ 306.68     ┆ 4.0       ┆ … ┆ Stormy    ┆ 31/08/14  ┆ 31/08/14 ┆ null      │\n",
       "│            ┆         ┆            ┆           ┆   ┆ weather   ┆ 9:00      ┆          ┆           │\n",
       "└────────────┴─────────┴────────────┴───────────┴───┴───────────┴───────────┴──────────┴───────────┘"
      ]
     },
     "execution_count": 63,
     "metadata": {},
     "output_type": "execute_result"
    }
   ],
   "source": [
    "df_test.describe()"
   ]
  },
  {
   "cell_type": "code",
   "execution_count": 64,
   "metadata": {},
   "outputs": [],
   "source": [
    "df_train=df_train.with_columns(\n",
    "    pl.col(\"Holiday\").cast(pl.Int64)\n",
    ")\n",
    "df_test=df_test.with_columns(\n",
    "    pl.col(\"Traffic_Vol\").cast(pl.Int64).alias(\"Traffic_Vol\"),\n",
    ")\n",
    "df_train=df_train.with_columns(\n",
    "    data=pl.lit(\"Train\")\n",
    ")\n",
    "\n",
    "df_test=df_test.with_columns(\n",
    "    data=pl.lit(\"Test\")\n",
    ")"
   ]
  },
  {
   "cell_type": "code",
   "execution_count": 92,
   "metadata": {},
   "outputs": [
    {
     "data": {
      "text/html": [
       "<div><style>\n",
       ".dataframe > thead > tr,\n",
       ".dataframe > tbody > tr {\n",
       "  text-align: right;\n",
       "  white-space: pre-wrap;\n",
       "}\n",
       "</style>\n",
       "<small>shape: (40_581, 11)</small><table border=\"1\" class=\"dataframe\"><thead><tr><th>Holiday</th><th>Temperature</th><th>Rainfall_last_hour</th><th>Snowfall_last_hour</th><th>Cloud_Cover</th><th>Weather</th><th>Weather_Desc</th><th>TimeStamp</th><th>Date</th><th>Traffic_Vol</th><th>data</th></tr><tr><td>i64</td><td>f64</td><td>i64</td><td>i64</td><td>i64</td><td>str</td><td>str</td><td>str</td><td>str</td><td>i64</td><td>str</td></tr></thead><tbody><tr><td>null</td><td>289.28</td><td>0</td><td>0</td><td>40</td><td>&quot;Cloudy skies&quot;</td><td>&quot;Partly cloudy skies&quot;</td><td>&quot;02/10/08 9:00&quot;</td><td>&quot;02/10/08&quot;</td><td>5555</td><td>&quot;Train&quot;</td></tr><tr><td>null</td><td>290.26</td><td>0</td><td>0</td><td>75</td><td>&quot;Cloudy skies&quot;</td><td>&quot;Fragmented clouds&quot;</td><td>&quot;02/10/08 10:00&quot;</td><td>&quot;02/10/08&quot;</td><td>4525</td><td>&quot;Train&quot;</td></tr><tr><td>null</td><td>290.28</td><td>0</td><td>0</td><td>90</td><td>&quot;Cloudy skies&quot;</td><td>&quot;Full cloud cover&quot;</td><td>&quot;02/10/08 11:00&quot;</td><td>&quot;02/10/08&quot;</td><td>4772</td><td>&quot;Train&quot;</td></tr><tr><td>null</td><td>290.33</td><td>0</td><td>0</td><td>90</td><td>&quot;Cloudy skies&quot;</td><td>&quot;Full cloud cover&quot;</td><td>&quot;02/10/08 12:00&quot;</td><td>&quot;02/10/08&quot;</td><td>5031</td><td>&quot;Train&quot;</td></tr><tr><td>null</td><td>292.14</td><td>0</td><td>0</td><td>75</td><td>&quot;Cloudy skies&quot;</td><td>&quot;Fragmented clouds&quot;</td><td>&quot;02/10/08 13:00&quot;</td><td>&quot;02/10/08&quot;</td><td>4928</td><td>&quot;Train&quot;</td></tr><tr><td>&hellip;</td><td>&hellip;</td><td>&hellip;</td><td>&hellip;</td><td>&hellip;</td><td>&hellip;</td><td>&hellip;</td><td>&hellip;</td><td>&hellip;</td><td>&hellip;</td><td>&hellip;</td></tr><tr><td>null</td><td>283.85</td><td>0</td><td>0</td><td>75</td><td>&quot;Cloudy skies&quot;</td><td>&quot;Fragmented clouds&quot;</td><td>&quot;30/09/14 19:00&quot;</td><td>&quot;30/09/14&quot;</td><td>null</td><td>&quot;Test&quot;</td></tr><tr><td>null</td><td>283.06</td><td>0</td><td>0</td><td>90</td><td>&quot;Cloudy skies&quot;</td><td>&quot;Full cloud cover&quot;</td><td>&quot;30/09/14 20:00&quot;</td><td>&quot;30/09/14&quot;</td><td>null</td><td>&quot;Test&quot;</td></tr><tr><td>null</td><td>282.93</td><td>0</td><td>0</td><td>90</td><td>&quot;Stormy weather&quot;</td><td>&quot;Approaching thunderstorm&quot;</td><td>&quot;30/09/14 21:00&quot;</td><td>&quot;30/09/14&quot;</td><td>null</td><td>&quot;Test&quot;</td></tr><tr><td>null</td><td>282.79</td><td>0</td><td>0</td><td>90</td><td>&quot;Cloudy skies&quot;</td><td>&quot;Full cloud cover&quot;</td><td>&quot;30/09/14 22:00&quot;</td><td>&quot;30/09/14&quot;</td><td>null</td><td>&quot;Test&quot;</td></tr><tr><td>null</td><td>282.92</td><td>0</td><td>0</td><td>90</td><td>&quot;Cloudy skies&quot;</td><td>&quot;Full cloud cover&quot;</td><td>&quot;30/09/14 23:00&quot;</td><td>&quot;30/09/14&quot;</td><td>null</td><td>&quot;Test&quot;</td></tr></tbody></table></div>"
      ],
      "text/plain": [
       "shape: (40_581, 11)\n",
       "┌─────────┬─────────────┬────────────┬────────────┬───┬────────────┬──────────┬────────────┬───────┐\n",
       "│ Holiday ┆ Temperature ┆ Rainfall_l ┆ Snowfall_l ┆ … ┆ TimeStamp  ┆ Date     ┆ Traffic_Vo ┆ data  │\n",
       "│ ---     ┆ ---         ┆ ast_hour   ┆ ast_hour   ┆   ┆ ---        ┆ ---      ┆ l          ┆ ---   │\n",
       "│ i64     ┆ f64         ┆ ---        ┆ ---        ┆   ┆ str        ┆ str      ┆ ---        ┆ str   │\n",
       "│         ┆             ┆ i64        ┆ i64        ┆   ┆            ┆          ┆ i64        ┆       │\n",
       "╞═════════╪═════════════╪════════════╪════════════╪═══╪════════════╪══════════╪════════════╪═══════╡\n",
       "│ null    ┆ 289.28      ┆ 0          ┆ 0          ┆ … ┆ 02/10/08   ┆ 02/10/08 ┆ 5555       ┆ Train │\n",
       "│         ┆             ┆            ┆            ┆   ┆ 9:00       ┆          ┆            ┆       │\n",
       "│ null    ┆ 290.26      ┆ 0          ┆ 0          ┆ … ┆ 02/10/08   ┆ 02/10/08 ┆ 4525       ┆ Train │\n",
       "│         ┆             ┆            ┆            ┆   ┆ 10:00      ┆          ┆            ┆       │\n",
       "│ null    ┆ 290.28      ┆ 0          ┆ 0          ┆ … ┆ 02/10/08   ┆ 02/10/08 ┆ 4772       ┆ Train │\n",
       "│         ┆             ┆            ┆            ┆   ┆ 11:00      ┆          ┆            ┆       │\n",
       "│ null    ┆ 290.33      ┆ 0          ┆ 0          ┆ … ┆ 02/10/08   ┆ 02/10/08 ┆ 5031       ┆ Train │\n",
       "│         ┆             ┆            ┆            ┆   ┆ 12:00      ┆          ┆            ┆       │\n",
       "│ null    ┆ 292.14      ┆ 0          ┆ 0          ┆ … ┆ 02/10/08   ┆ 02/10/08 ┆ 4928       ┆ Train │\n",
       "│         ┆             ┆            ┆            ┆   ┆ 13:00      ┆          ┆            ┆       │\n",
       "│ …       ┆ …           ┆ …          ┆ …          ┆ … ┆ …          ┆ …        ┆ …          ┆ …     │\n",
       "│ null    ┆ 283.85      ┆ 0          ┆ 0          ┆ … ┆ 30/09/14   ┆ 30/09/14 ┆ null       ┆ Test  │\n",
       "│         ┆             ┆            ┆            ┆   ┆ 19:00      ┆          ┆            ┆       │\n",
       "│ null    ┆ 283.06      ┆ 0          ┆ 0          ┆ … ┆ 30/09/14   ┆ 30/09/14 ┆ null       ┆ Test  │\n",
       "│         ┆             ┆            ┆            ┆   ┆ 20:00      ┆          ┆            ┆       │\n",
       "│ null    ┆ 282.93      ┆ 0          ┆ 0          ┆ … ┆ 30/09/14   ┆ 30/09/14 ┆ null       ┆ Test  │\n",
       "│         ┆             ┆            ┆            ┆   ┆ 21:00      ┆          ┆            ┆       │\n",
       "│ null    ┆ 282.79      ┆ 0          ┆ 0          ┆ … ┆ 30/09/14   ┆ 30/09/14 ┆ null       ┆ Test  │\n",
       "│         ┆             ┆            ┆            ┆   ┆ 22:00      ┆          ┆            ┆       │\n",
       "│ null    ┆ 282.92      ┆ 0          ┆ 0          ┆ … ┆ 30/09/14   ┆ 30/09/14 ┆ null       ┆ Test  │\n",
       "│         ┆             ┆            ┆            ┆   ┆ 23:00      ┆          ┆            ┆       │\n",
       "└─────────┴─────────────┴────────────┴────────────┴───┴────────────┴──────────┴────────────┴───────┘"
      ]
     },
     "execution_count": 92,
     "metadata": {},
     "output_type": "execute_result"
    }
   ],
   "source": [
    "df=pl.concat([df_train, df_test], how='vertical')\n",
    "df"
   ]
  },
  {
   "cell_type": "code",
   "execution_count": 93,
   "metadata": {},
   "outputs": [],
   "source": [
    "df=df.drop(\"Snowfall_last_hour\")"
   ]
  },
  {
   "cell_type": "code",
   "execution_count": 94,
   "metadata": {},
   "outputs": [
    {
     "data": {
      "text/html": [
       "<div><style>\n",
       ".dataframe > thead > tr,\n",
       ".dataframe > tbody > tr {\n",
       "  text-align: right;\n",
       "  white-space: pre-wrap;\n",
       "}\n",
       "</style>\n",
       "<small>shape: (53, 10)</small><table border=\"1\" class=\"dataframe\"><thead><tr><th>Holiday</th><th>Temperature</th><th>Rainfall_last_hour</th><th>Cloud_Cover</th><th>Weather</th><th>Weather_Desc</th><th>TimeStamp</th><th>Date</th><th>Traffic_Vol</th><th>data</th></tr><tr><td>i64</td><td>f64</td><td>i64</td><td>i64</td><td>str</td><td>str</td><td>str</td><td>str</td><td>i64</td><td>str</td></tr></thead><tbody><tr><td>1</td><td>274.08</td><td>0</td><td>20</td><td>&quot;Cloudy skies&quot;</td><td>&quot;Scattered clouds&quot;</td><td>&quot;08/10/08 0:00&quot;</td><td>&quot;08/10/08&quot;</td><td>462</td><td>&quot;Train&quot;</td></tr><tr><td>1</td><td>288.62</td><td>0</td><td>87</td><td>&quot;Clear skies&quot;</td><td>&quot;Clear skies&quot;</td><td>&quot;12/11/08 0:00&quot;</td><td>&quot;12/11/08&quot;</td><td>1004</td><td>&quot;Train&quot;</td></tr><tr><td>1</td><td>279.24</td><td>0</td><td>21</td><td>&quot;Light fog&quot;</td><td>&quot;Fine fog&quot;</td><td>&quot;22/11/08 0:00&quot;</td><td>&quot;22/11/08&quot;</td><td>921</td><td>&quot;Train&quot;</td></tr><tr><td>1</td><td>265.1</td><td>0</td><td>90</td><td>&quot;Cloudy skies&quot;</td><td>&quot;Full cloud cover&quot;</td><td>&quot;25/12/08 0:00&quot;</td><td>&quot;25/12/08&quot;</td><td>810</td><td>&quot;Train&quot;</td></tr><tr><td>1</td><td>263.89</td><td>0</td><td>59</td><td>&quot;Cloudy skies&quot;</td><td>&quot;Fragmented clouds&quot;</td><td>&quot;01/01/09 0:00&quot;</td><td>&quot;01/01/09&quot;</td><td>1442</td><td>&quot;Train&quot;</td></tr><tr><td>&hellip;</td><td>&hellip;</td><td>&hellip;</td><td>&hellip;</td><td>&hellip;</td><td>&hellip;</td><td>&hellip;</td><td>&hellip;</td><td>&hellip;</td><td>&hellip;</td></tr><tr><td>1</td><td>271.13</td><td>0</td><td>20</td><td>&quot;Cloudy skies&quot;</td><td>&quot;Scattered clouds&quot;</td><td>&quot;19/02/14 0:00&quot;</td><td>&quot;19/02/14&quot;</td><td>632</td><td>&quot;Train&quot;</td></tr><tr><td>1</td><td>300.287</td><td>0</td><td>24</td><td>&quot;Cloudy skies&quot;</td><td>&quot;Scattered clouds&quot;</td><td>&quot;28/05/14 0:00&quot;</td><td>&quot;28/05/14&quot;</td><td>1095</td><td>&quot;Train&quot;</td></tr><tr><td>1</td><td>298.35</td><td>0</td><td>1</td><td>&quot;Light fog&quot;</td><td>&quot;Fine fog&quot;</td><td>&quot;04/07/14 0:00&quot;</td><td>&quot;04/07/14&quot;</td><td>null</td><td>&quot;Test&quot;</td></tr><tr><td>1</td><td>289.52</td><td>0</td><td>1</td><td>&quot;Clear skies&quot;</td><td>&quot;Clear skies&quot;</td><td>&quot;23/08/14 0:00&quot;</td><td>&quot;23/08/14&quot;</td><td>null</td><td>&quot;Test&quot;</td></tr><tr><td>1</td><td>292.73</td><td>null</td><td>1</td><td>&quot;Rainfall&quot;</td><td>&quot;Soft rain&quot;</td><td>&quot;03/09/14 0:00&quot;</td><td>&quot;03/09/14&quot;</td><td>null</td><td>&quot;Test&quot;</td></tr></tbody></table></div>"
      ],
      "text/plain": [
       "shape: (53, 10)\n",
       "┌─────────┬─────────────┬────────────┬────────────┬───┬────────────┬──────────┬────────────┬───────┐\n",
       "│ Holiday ┆ Temperature ┆ Rainfall_l ┆ Cloud_Cove ┆ … ┆ TimeStamp  ┆ Date     ┆ Traffic_Vo ┆ data  │\n",
       "│ ---     ┆ ---         ┆ ast_hour   ┆ r          ┆   ┆ ---        ┆ ---      ┆ l          ┆ ---   │\n",
       "│ i64     ┆ f64         ┆ ---        ┆ ---        ┆   ┆ str        ┆ str      ┆ ---        ┆ str   │\n",
       "│         ┆             ┆ i64        ┆ i64        ┆   ┆            ┆          ┆ i64        ┆       │\n",
       "╞═════════╪═════════════╪════════════╪════════════╪═══╪════════════╪══════════╪════════════╪═══════╡\n",
       "│ 1       ┆ 274.08      ┆ 0          ┆ 20         ┆ … ┆ 08/10/08   ┆ 08/10/08 ┆ 462        ┆ Train │\n",
       "│         ┆             ┆            ┆            ┆   ┆ 0:00       ┆          ┆            ┆       │\n",
       "│ 1       ┆ 288.62      ┆ 0          ┆ 87         ┆ … ┆ 12/11/08   ┆ 12/11/08 ┆ 1004       ┆ Train │\n",
       "│         ┆             ┆            ┆            ┆   ┆ 0:00       ┆          ┆            ┆       │\n",
       "│ 1       ┆ 279.24      ┆ 0          ┆ 21         ┆ … ┆ 22/11/08   ┆ 22/11/08 ┆ 921        ┆ Train │\n",
       "│         ┆             ┆            ┆            ┆   ┆ 0:00       ┆          ┆            ┆       │\n",
       "│ 1       ┆ 265.1       ┆ 0          ┆ 90         ┆ … ┆ 25/12/08   ┆ 25/12/08 ┆ 810        ┆ Train │\n",
       "│         ┆             ┆            ┆            ┆   ┆ 0:00       ┆          ┆            ┆       │\n",
       "│ 1       ┆ 263.89      ┆ 0          ┆ 59         ┆ … ┆ 01/01/09   ┆ 01/01/09 ┆ 1442       ┆ Train │\n",
       "│         ┆             ┆            ┆            ┆   ┆ 0:00       ┆          ┆            ┆       │\n",
       "│ …       ┆ …           ┆ …          ┆ …          ┆ … ┆ …          ┆ …        ┆ …          ┆ …     │\n",
       "│ 1       ┆ 271.13      ┆ 0          ┆ 20         ┆ … ┆ 19/02/14   ┆ 19/02/14 ┆ 632        ┆ Train │\n",
       "│         ┆             ┆            ┆            ┆   ┆ 0:00       ┆          ┆            ┆       │\n",
       "│ 1       ┆ 300.287     ┆ 0          ┆ 24         ┆ … ┆ 28/05/14   ┆ 28/05/14 ┆ 1095       ┆ Train │\n",
       "│         ┆             ┆            ┆            ┆   ┆ 0:00       ┆          ┆            ┆       │\n",
       "│ 1       ┆ 298.35      ┆ 0          ┆ 1          ┆ … ┆ 04/07/14   ┆ 04/07/14 ┆ null       ┆ Test  │\n",
       "│         ┆             ┆            ┆            ┆   ┆ 0:00       ┆          ┆            ┆       │\n",
       "│ 1       ┆ 289.52      ┆ 0          ┆ 1          ┆ … ┆ 23/08/14   ┆ 23/08/14 ┆ null       ┆ Test  │\n",
       "│         ┆             ┆            ┆            ┆   ┆ 0:00       ┆          ┆            ┆       │\n",
       "│ 1       ┆ 292.73      ┆ null       ┆ 1          ┆ … ┆ 03/09/14   ┆ 03/09/14 ┆ null       ┆ Test  │\n",
       "│         ┆             ┆            ┆            ┆   ┆ 0:00       ┆          ┆            ┆       │\n",
       "└─────────┴─────────────┴────────────┴────────────┴───┴────────────┴──────────┴────────────┴───────┘"
      ]
     },
     "execution_count": 94,
     "metadata": {},
     "output_type": "execute_result"
    }
   ],
   "source": [
    "df.filter(\n",
    "    pl.col(\"Holiday\")==1\n",
    ")"
   ]
  },
  {
   "cell_type": "code",
   "execution_count": 97,
   "metadata": {},
   "outputs": [
    {
     "data": {
      "text/html": [
       "<div><style>\n",
       ".dataframe > thead > tr,\n",
       ".dataframe > tbody > tr {\n",
       "  text-align: right;\n",
       "  white-space: pre-wrap;\n",
       "}\n",
       "</style>\n",
       "<small>shape: (24, 10)</small><table border=\"1\" class=\"dataframe\"><thead><tr><th>Holiday</th><th>Temperature</th><th>Rainfall_last_hour</th><th>Cloud_Cover</th><th>Weather</th><th>Weather_Desc</th><th>TimeStamp</th><th>Date</th><th>Traffic_Vol</th><th>data</th></tr><tr><td>i64</td><td>f64</td><td>i64</td><td>i64</td><td>str</td><td>str</td><td>str</td><td>str</td><td>i64</td><td>str</td></tr></thead><tbody><tr><td>1</td><td>274.08</td><td>0</td><td>20</td><td>&quot;Cloudy skies&quot;</td><td>&quot;Scattered clouds&quot;</td><td>&quot;08/10/08 0:00&quot;</td><td>&quot;08/10/08&quot;</td><td>462</td><td>&quot;Train&quot;</td></tr><tr><td>null</td><td>273.62</td><td>0</td><td>20</td><td>&quot;Cloudy skies&quot;</td><td>&quot;Scattered clouds&quot;</td><td>&quot;08/10/08 1:00&quot;</td><td>&quot;08/10/08&quot;</td><td>340</td><td>&quot;Train&quot;</td></tr><tr><td>null</td><td>272.68</td><td>0</td><td>1</td><td>&quot;Clear skies&quot;</td><td>&quot;Clear skies&quot;</td><td>&quot;08/10/08 2:00&quot;</td><td>&quot;08/10/08&quot;</td><td>266</td><td>&quot;Train&quot;</td></tr><tr><td>null</td><td>271.65</td><td>0</td><td>2</td><td>&quot;Clear skies&quot;</td><td>&quot;Clear skies&quot;</td><td>&quot;08/10/08 3:00&quot;</td><td>&quot;08/10/08&quot;</td><td>316</td><td>&quot;Train&quot;</td></tr><tr><td>null</td><td>271.53</td><td>0</td><td>1</td><td>&quot;Clear skies&quot;</td><td>&quot;Clear skies&quot;</td><td>&quot;08/10/08 4:00&quot;</td><td>&quot;08/10/08&quot;</td><td>788</td><td>&quot;Train&quot;</td></tr><tr><td>&hellip;</td><td>&hellip;</td><td>&hellip;</td><td>&hellip;</td><td>&hellip;</td><td>&hellip;</td><td>&hellip;</td><td>&hellip;</td><td>&hellip;</td><td>&hellip;</td></tr><tr><td>null</td><td>282.99</td><td>0</td><td>20</td><td>&quot;Cloudy skies&quot;</td><td>&quot;Scattered clouds&quot;</td><td>&quot;08/10/08 19:00&quot;</td><td>&quot;08/10/08&quot;</td><td>3077</td><td>&quot;Train&quot;</td></tr><tr><td>null</td><td>280.81</td><td>0</td><td>2</td><td>&quot;Clear skies&quot;</td><td>&quot;Clear skies&quot;</td><td>&quot;08/10/08 20:00&quot;</td><td>&quot;08/10/08&quot;</td><td>2383</td><td>&quot;Train&quot;</td></tr><tr><td>null</td><td>279.45</td><td>0</td><td>2</td><td>&quot;Clear skies&quot;</td><td>&quot;Clear skies&quot;</td><td>&quot;08/10/08 21:00&quot;</td><td>&quot;08/10/08&quot;</td><td>2035</td><td>&quot;Train&quot;</td></tr><tr><td>null</td><td>279.0</td><td>0</td><td>1</td><td>&quot;Clear skies&quot;</td><td>&quot;Clear skies&quot;</td><td>&quot;08/10/08 22:00&quot;</td><td>&quot;08/10/08&quot;</td><td>1405</td><td>&quot;Train&quot;</td></tr><tr><td>null</td><td>279.26</td><td>0</td><td>2</td><td>&quot;Clear skies&quot;</td><td>&quot;Clear skies&quot;</td><td>&quot;08/10/08 23:00&quot;</td><td>&quot;08/10/08&quot;</td><td>920</td><td>&quot;Train&quot;</td></tr></tbody></table></div>"
      ],
      "text/plain": [
       "shape: (24, 10)\n",
       "┌─────────┬─────────────┬────────────┬────────────┬───┬────────────┬──────────┬────────────┬───────┐\n",
       "│ Holiday ┆ Temperature ┆ Rainfall_l ┆ Cloud_Cove ┆ … ┆ TimeStamp  ┆ Date     ┆ Traffic_Vo ┆ data  │\n",
       "│ ---     ┆ ---         ┆ ast_hour   ┆ r          ┆   ┆ ---        ┆ ---      ┆ l          ┆ ---   │\n",
       "│ i64     ┆ f64         ┆ ---        ┆ ---        ┆   ┆ str        ┆ str      ┆ ---        ┆ str   │\n",
       "│         ┆             ┆ i64        ┆ i64        ┆   ┆            ┆          ┆ i64        ┆       │\n",
       "╞═════════╪═════════════╪════════════╪════════════╪═══╪════════════╪══════════╪════════════╪═══════╡\n",
       "│ 1       ┆ 274.08      ┆ 0          ┆ 20         ┆ … ┆ 08/10/08   ┆ 08/10/08 ┆ 462        ┆ Train │\n",
       "│         ┆             ┆            ┆            ┆   ┆ 0:00       ┆          ┆            ┆       │\n",
       "│ null    ┆ 273.62      ┆ 0          ┆ 20         ┆ … ┆ 08/10/08   ┆ 08/10/08 ┆ 340        ┆ Train │\n",
       "│         ┆             ┆            ┆            ┆   ┆ 1:00       ┆          ┆            ┆       │\n",
       "│ null    ┆ 272.68      ┆ 0          ┆ 1          ┆ … ┆ 08/10/08   ┆ 08/10/08 ┆ 266        ┆ Train │\n",
       "│         ┆             ┆            ┆            ┆   ┆ 2:00       ┆          ┆            ┆       │\n",
       "│ null    ┆ 271.65      ┆ 0          ┆ 2          ┆ … ┆ 08/10/08   ┆ 08/10/08 ┆ 316        ┆ Train │\n",
       "│         ┆             ┆            ┆            ┆   ┆ 3:00       ┆          ┆            ┆       │\n",
       "│ null    ┆ 271.53      ┆ 0          ┆ 1          ┆ … ┆ 08/10/08   ┆ 08/10/08 ┆ 788        ┆ Train │\n",
       "│         ┆             ┆            ┆            ┆   ┆ 4:00       ┆          ┆            ┆       │\n",
       "│ …       ┆ …           ┆ …          ┆ …          ┆ … ┆ …          ┆ …        ┆ …          ┆ …     │\n",
       "│ null    ┆ 282.99      ┆ 0          ┆ 20         ┆ … ┆ 08/10/08   ┆ 08/10/08 ┆ 3077       ┆ Train │\n",
       "│         ┆             ┆            ┆            ┆   ┆ 19:00      ┆          ┆            ┆       │\n",
       "│ null    ┆ 280.81      ┆ 0          ┆ 2          ┆ … ┆ 08/10/08   ┆ 08/10/08 ┆ 2383       ┆ Train │\n",
       "│         ┆             ┆            ┆            ┆   ┆ 20:00      ┆          ┆            ┆       │\n",
       "│ null    ┆ 279.45      ┆ 0          ┆ 2          ┆ … ┆ 08/10/08   ┆ 08/10/08 ┆ 2035       ┆ Train │\n",
       "│         ┆             ┆            ┆            ┆   ┆ 21:00      ┆          ┆            ┆       │\n",
       "│ null    ┆ 279.0       ┆ 0          ┆ 1          ┆ … ┆ 08/10/08   ┆ 08/10/08 ┆ 1405       ┆ Train │\n",
       "│         ┆             ┆            ┆            ┆   ┆ 22:00      ┆          ┆            ┆       │\n",
       "│ null    ┆ 279.26      ┆ 0          ┆ 2          ┆ … ┆ 08/10/08   ┆ 08/10/08 ┆ 920        ┆ Train │\n",
       "│         ┆             ┆            ┆            ┆   ┆ 23:00      ┆          ┆            ┆       │\n",
       "└─────────┴─────────────┴────────────┴────────────┴───┴────────────┴──────────┴────────────┴───────┘"
      ]
     },
     "execution_count": 97,
     "metadata": {},
     "output_type": "execute_result"
    }
   ],
   "source": [
    "df.filter(\n",
    "    pl.col(\"TimeStamp\").str.contains(\"08/10/08\")\n",
    ")"
   ]
  },
  {
   "cell_type": "code",
   "execution_count": 98,
   "metadata": {},
   "outputs": [],
   "source": [
    "df=df.with_columns(\n",
    "    pl.col(\"Holiday\").fill_null(0)\n",
    ")"
   ]
  },
  {
   "cell_type": "code",
   "execution_count": 105,
   "metadata": {},
   "outputs": [
    {
     "data": {
      "text/html": [
       "<div><style>\n",
       ".dataframe > thead > tr,\n",
       ".dataframe > tbody > tr {\n",
       "  text-align: right;\n",
       "  white-space: pre-wrap;\n",
       "}\n",
       "</style>\n",
       "<small>shape: (1_860, 2)</small><table border=\"1\" class=\"dataframe\"><thead><tr><th>Date</th><th>Holiday</th></tr><tr><td>str</td><td>i64</td></tr></thead><tbody><tr><td>&quot;14/09/09&quot;</td><td>0</td></tr><tr><td>&quot;23/05/10&quot;</td><td>0</td></tr><tr><td>&quot;03/03/14&quot;</td><td>0</td></tr><tr><td>&quot;24/09/11&quot;</td><td>0</td></tr><tr><td>&quot;25/03/09&quot;</td><td>0</td></tr><tr><td>&hellip;</td><td>&hellip;</td></tr><tr><td>&quot;09/07/11&quot;</td><td>0</td></tr><tr><td>&quot;23/01/12&quot;</td><td>0</td></tr><tr><td>&quot;03/02/12&quot;</td><td>0</td></tr><tr><td>&quot;10/05/09&quot;</td><td>0</td></tr><tr><td>&quot;13/03/14&quot;</td><td>0</td></tr></tbody></table></div>"
      ],
      "text/plain": [
       "shape: (1_860, 2)\n",
       "┌──────────┬─────────┐\n",
       "│ Date     ┆ Holiday │\n",
       "│ ---      ┆ ---     │\n",
       "│ str      ┆ i64     │\n",
       "╞══════════╪═════════╡\n",
       "│ 14/09/09 ┆ 0       │\n",
       "│ 23/05/10 ┆ 0       │\n",
       "│ 03/03/14 ┆ 0       │\n",
       "│ 24/09/11 ┆ 0       │\n",
       "│ 25/03/09 ┆ 0       │\n",
       "│ …        ┆ …       │\n",
       "│ 09/07/11 ┆ 0       │\n",
       "│ 23/01/12 ┆ 0       │\n",
       "│ 03/02/12 ┆ 0       │\n",
       "│ 10/05/09 ┆ 0       │\n",
       "│ 13/03/14 ┆ 0       │\n",
       "└──────────┴─────────┘"
      ]
     },
     "execution_count": 105,
     "metadata": {},
     "output_type": "execute_result"
    }
   ],
   "source": [
    "holidays = df.group_by(\"Date\").agg(pl.max(\"Holiday\"))\n",
    "holidays"
   ]
  },
  {
   "cell_type": "code",
   "execution_count": 113,
   "metadata": {},
   "outputs": [],
   "source": [
    "df=df.drop(\"Holiday\").join(holidays, on=\"Date\", how=\"left\")"
   ]
  },
  {
   "cell_type": "code",
   "execution_count": 114,
   "metadata": {},
   "outputs": [
    {
     "data": {
      "text/html": [
       "<div><style>\n",
       ".dataframe > thead > tr,\n",
       ".dataframe > tbody > tr {\n",
       "  text-align: right;\n",
       "  white-space: pre-wrap;\n",
       "}\n",
       "</style>\n",
       "<small>shape: (1, 10)</small><table border=\"1\" class=\"dataframe\"><thead><tr><th>Temperature</th><th>Rainfall_last_hour</th><th>Cloud_Cover</th><th>Weather</th><th>Weather_Desc</th><th>TimeStamp</th><th>Date</th><th>Traffic_Vol</th><th>data</th><th>Holiday</th></tr><tr><td>u32</td><td>u32</td><td>u32</td><td>u32</td><td>u32</td><td>u32</td><td>u32</td><td>u32</td><td>u32</td><td>u32</td></tr></thead><tbody><tr><td>0</td><td>2044</td><td>0</td><td>0</td><td>0</td><td>0</td><td>0</td><td>2208</td><td>0</td><td>0</td></tr></tbody></table></div>"
      ],
      "text/plain": [
       "shape: (1, 10)\n",
       "┌─────────────┬──────────────────┬─────────────┬─────────┬───┬──────┬─────────────┬──────┬─────────┐\n",
       "│ Temperature ┆ Rainfall_last_ho ┆ Cloud_Cover ┆ Weather ┆ … ┆ Date ┆ Traffic_Vol ┆ data ┆ Holiday │\n",
       "│ ---         ┆ ur               ┆ ---         ┆ ---     ┆   ┆ ---  ┆ ---         ┆ ---  ┆ ---     │\n",
       "│ u32         ┆ ---              ┆ u32         ┆ u32     ┆   ┆ u32  ┆ u32         ┆ u32  ┆ u32     │\n",
       "│             ┆ u32              ┆             ┆         ┆   ┆      ┆             ┆      ┆         │\n",
       "╞═════════════╪══════════════════╪═════════════╪═════════╪═══╪══════╪═════════════╪══════╪═════════╡\n",
       "│ 0           ┆ 2044             ┆ 0           ┆ 0       ┆ … ┆ 0    ┆ 2208        ┆ 0    ┆ 0       │\n",
       "└─────────────┴──────────────────┴─────────────┴─────────┴───┴──────┴─────────────┴──────┴─────────┘"
      ]
     },
     "execution_count": 114,
     "metadata": {},
     "output_type": "execute_result"
    }
   ],
   "source": [
    "df.null_count()"
   ]
  },
  {
   "cell_type": "code",
   "execution_count": 115,
   "metadata": {},
   "outputs": [],
   "source": [
    "df = df.with_columns(\n",
    "    pl.col(\"TimeStamp\").str.strptime(pl.Datetime, format=\"%d/%m/%y %H:%M\")\n",
    ")\n",
    "\n",
    "df = df.with_columns([\n",
    "    pl.col(\"TimeStamp\").dt.day().alias(\"day\"),\n",
    "    pl.col(\"TimeStamp\").dt.month().alias(\"month\"),\n",
    "    pl.col(\"TimeStamp\").dt.year().alias(\"year\"),\n",
    "    pl.col(\"TimeStamp\").dt.hour().alias(\"hour\"),\n",
    "    pl.col(\"TimeStamp\").dt.minute().alias(\"minute\"),\n",
    "    pl.col(\"TimeStamp\").dt.strftime(\"%A\").alias(\"weekday_name\")\n",
    "])"
   ]
  },
  {
   "cell_type": "code",
   "execution_count": 116,
   "metadata": {},
   "outputs": [],
   "source": [
    "df= df.drop([\"Date\"])"
   ]
  },
  {
   "cell_type": "code",
   "execution_count": 117,
   "metadata": {},
   "outputs": [],
   "source": [
    "df=df.with_columns(\n",
    "    is_weekend=pl.when(pl.col(\"weekday_name\").is_in([\"Saturday\", \"Sunday\"])).then(1).otherwise(0)\n",
    ")"
   ]
  },
  {
   "cell_type": "code",
   "execution_count": 118,
   "metadata": {},
   "outputs": [],
   "source": [
    "df=df.with_columns(\n",
    "    pl.col(\"Weather_Desc\").str.to_lowercase().alias(\"Weather_Desc\"),\n",
    "    pl.col(\"Weather\").str.to_lowercase().alias(\"Weather\"),\n",
    ")"
   ]
  },
  {
   "cell_type": "code",
   "execution_count": 119,
   "metadata": {},
   "outputs": [
    {
     "data": {
      "text/html": [
       "<div><style>\n",
       ".dataframe > thead > tr,\n",
       ".dataframe > tbody > tr {\n",
       "  text-align: right;\n",
       "  white-space: pre-wrap;\n",
       "}\n",
       "</style>\n",
       "<small>shape: (40_581, 16)</small><table border=\"1\" class=\"dataframe\"><thead><tr><th>Temperature</th><th>Rainfall_last_hour</th><th>Cloud_Cover</th><th>Weather</th><th>Weather_Desc</th><th>TimeStamp</th><th>Traffic_Vol</th><th>data</th><th>Holiday</th><th>day</th><th>month</th><th>year</th><th>hour</th><th>minute</th><th>weekday_name</th><th>is_weekend</th></tr><tr><td>f64</td><td>i64</td><td>i64</td><td>str</td><td>str</td><td>datetime[μs]</td><td>i64</td><td>str</td><td>i64</td><td>i8</td><td>i8</td><td>i32</td><td>i8</td><td>i8</td><td>str</td><td>i32</td></tr></thead><tbody><tr><td>289.28</td><td>0</td><td>40</td><td>&quot;cloudy skies&quot;</td><td>&quot;partly cloudy skies&quot;</td><td>2008-10-02 09:00:00</td><td>5555</td><td>&quot;Train&quot;</td><td>0</td><td>2</td><td>10</td><td>2008</td><td>9</td><td>0</td><td>&quot;Thursday&quot;</td><td>0</td></tr><tr><td>290.26</td><td>0</td><td>75</td><td>&quot;cloudy skies&quot;</td><td>&quot;fragmented clouds&quot;</td><td>2008-10-02 10:00:00</td><td>4525</td><td>&quot;Train&quot;</td><td>0</td><td>2</td><td>10</td><td>2008</td><td>10</td><td>0</td><td>&quot;Thursday&quot;</td><td>0</td></tr><tr><td>290.28</td><td>0</td><td>90</td><td>&quot;cloudy skies&quot;</td><td>&quot;full cloud cover&quot;</td><td>2008-10-02 11:00:00</td><td>4772</td><td>&quot;Train&quot;</td><td>0</td><td>2</td><td>10</td><td>2008</td><td>11</td><td>0</td><td>&quot;Thursday&quot;</td><td>0</td></tr><tr><td>290.33</td><td>0</td><td>90</td><td>&quot;cloudy skies&quot;</td><td>&quot;full cloud cover&quot;</td><td>2008-10-02 12:00:00</td><td>5031</td><td>&quot;Train&quot;</td><td>0</td><td>2</td><td>10</td><td>2008</td><td>12</td><td>0</td><td>&quot;Thursday&quot;</td><td>0</td></tr><tr><td>292.14</td><td>0</td><td>75</td><td>&quot;cloudy skies&quot;</td><td>&quot;fragmented clouds&quot;</td><td>2008-10-02 13:00:00</td><td>4928</td><td>&quot;Train&quot;</td><td>0</td><td>2</td><td>10</td><td>2008</td><td>13</td><td>0</td><td>&quot;Thursday&quot;</td><td>0</td></tr><tr><td>&hellip;</td><td>&hellip;</td><td>&hellip;</td><td>&hellip;</td><td>&hellip;</td><td>&hellip;</td><td>&hellip;</td><td>&hellip;</td><td>&hellip;</td><td>&hellip;</td><td>&hellip;</td><td>&hellip;</td><td>&hellip;</td><td>&hellip;</td><td>&hellip;</td><td>&hellip;</td></tr><tr><td>283.85</td><td>0</td><td>75</td><td>&quot;cloudy skies&quot;</td><td>&quot;fragmented clouds&quot;</td><td>2014-09-30 19:00:00</td><td>null</td><td>&quot;Test&quot;</td><td>0</td><td>30</td><td>9</td><td>2014</td><td>19</td><td>0</td><td>&quot;Tuesday&quot;</td><td>0</td></tr><tr><td>283.06</td><td>0</td><td>90</td><td>&quot;cloudy skies&quot;</td><td>&quot;full cloud cover&quot;</td><td>2014-09-30 20:00:00</td><td>null</td><td>&quot;Test&quot;</td><td>0</td><td>30</td><td>9</td><td>2014</td><td>20</td><td>0</td><td>&quot;Tuesday&quot;</td><td>0</td></tr><tr><td>282.93</td><td>0</td><td>90</td><td>&quot;stormy weather&quot;</td><td>&quot;approaching thunderstorm&quot;</td><td>2014-09-30 21:00:00</td><td>null</td><td>&quot;Test&quot;</td><td>0</td><td>30</td><td>9</td><td>2014</td><td>21</td><td>0</td><td>&quot;Tuesday&quot;</td><td>0</td></tr><tr><td>282.79</td><td>0</td><td>90</td><td>&quot;cloudy skies&quot;</td><td>&quot;full cloud cover&quot;</td><td>2014-09-30 22:00:00</td><td>null</td><td>&quot;Test&quot;</td><td>0</td><td>30</td><td>9</td><td>2014</td><td>22</td><td>0</td><td>&quot;Tuesday&quot;</td><td>0</td></tr><tr><td>282.92</td><td>0</td><td>90</td><td>&quot;cloudy skies&quot;</td><td>&quot;full cloud cover&quot;</td><td>2014-09-30 23:00:00</td><td>null</td><td>&quot;Test&quot;</td><td>0</td><td>30</td><td>9</td><td>2014</td><td>23</td><td>0</td><td>&quot;Tuesday&quot;</td><td>0</td></tr></tbody></table></div>"
      ],
      "text/plain": [
       "shape: (40_581, 16)\n",
       "┌─────────────┬─────────────┬─────────────┬─────────┬───┬──────┬────────┬─────────────┬────────────┐\n",
       "│ Temperature ┆ Rainfall_la ┆ Cloud_Cover ┆ Weather ┆ … ┆ hour ┆ minute ┆ weekday_nam ┆ is_weekend │\n",
       "│ ---         ┆ st_hour     ┆ ---         ┆ ---     ┆   ┆ ---  ┆ ---    ┆ e           ┆ ---        │\n",
       "│ f64         ┆ ---         ┆ i64         ┆ str     ┆   ┆ i8   ┆ i8     ┆ ---         ┆ i32        │\n",
       "│             ┆ i64         ┆             ┆         ┆   ┆      ┆        ┆ str         ┆            │\n",
       "╞═════════════╪═════════════╪═════════════╪═════════╪═══╪══════╪════════╪═════════════╪════════════╡\n",
       "│ 289.28      ┆ 0           ┆ 40          ┆ cloudy  ┆ … ┆ 9    ┆ 0      ┆ Thursday    ┆ 0          │\n",
       "│             ┆             ┆             ┆ skies   ┆   ┆      ┆        ┆             ┆            │\n",
       "│ 290.26      ┆ 0           ┆ 75          ┆ cloudy  ┆ … ┆ 10   ┆ 0      ┆ Thursday    ┆ 0          │\n",
       "│             ┆             ┆             ┆ skies   ┆   ┆      ┆        ┆             ┆            │\n",
       "│ 290.28      ┆ 0           ┆ 90          ┆ cloudy  ┆ … ┆ 11   ┆ 0      ┆ Thursday    ┆ 0          │\n",
       "│             ┆             ┆             ┆ skies   ┆   ┆      ┆        ┆             ┆            │\n",
       "│ 290.33      ┆ 0           ┆ 90          ┆ cloudy  ┆ … ┆ 12   ┆ 0      ┆ Thursday    ┆ 0          │\n",
       "│             ┆             ┆             ┆ skies   ┆   ┆      ┆        ┆             ┆            │\n",
       "│ 292.14      ┆ 0           ┆ 75          ┆ cloudy  ┆ … ┆ 13   ┆ 0      ┆ Thursday    ┆ 0          │\n",
       "│             ┆             ┆             ┆ skies   ┆   ┆      ┆        ┆             ┆            │\n",
       "│ …           ┆ …           ┆ …           ┆ …       ┆ … ┆ …    ┆ …      ┆ …           ┆ …          │\n",
       "│ 283.85      ┆ 0           ┆ 75          ┆ cloudy  ┆ … ┆ 19   ┆ 0      ┆ Tuesday     ┆ 0          │\n",
       "│             ┆             ┆             ┆ skies   ┆   ┆      ┆        ┆             ┆            │\n",
       "│ 283.06      ┆ 0           ┆ 90          ┆ cloudy  ┆ … ┆ 20   ┆ 0      ┆ Tuesday     ┆ 0          │\n",
       "│             ┆             ┆             ┆ skies   ┆   ┆      ┆        ┆             ┆            │\n",
       "│ 282.93      ┆ 0           ┆ 90          ┆ stormy  ┆ … ┆ 21   ┆ 0      ┆ Tuesday     ┆ 0          │\n",
       "│             ┆             ┆             ┆ weather ┆   ┆      ┆        ┆             ┆            │\n",
       "│ 282.79      ┆ 0           ┆ 90          ┆ cloudy  ┆ … ┆ 22   ┆ 0      ┆ Tuesday     ┆ 0          │\n",
       "│             ┆             ┆             ┆ skies   ┆   ┆      ┆        ┆             ┆            │\n",
       "│ 282.92      ┆ 0           ┆ 90          ┆ cloudy  ┆ … ┆ 23   ┆ 0      ┆ Tuesday     ┆ 0          │\n",
       "│             ┆             ┆             ┆ skies   ┆   ┆      ┆        ┆             ┆            │\n",
       "└─────────────┴─────────────┴─────────────┴─────────┴───┴──────┴────────┴─────────────┴────────────┘"
      ]
     },
     "execution_count": 119,
     "metadata": {},
     "output_type": "execute_result"
    }
   ],
   "source": [
    "df"
   ]
  },
  {
   "cell_type": "code",
   "execution_count": 83,
   "metadata": {},
   "outputs": [
    {
     "data": {
      "text/html": [
       "<div><style>\n",
       ".dataframe > thead > tr,\n",
       ".dataframe > tbody > tr {\n",
       "  text-align: right;\n",
       "  white-space: pre-wrap;\n",
       "}\n",
       "</style>\n",
       "<small>shape: (34, 2)</small><table border=\"1\" class=\"dataframe\"><thead><tr><th>Weather_Desc</th><th>count</th></tr><tr><td>str</td><td>u32</td></tr></thead><tbody><tr><td>&quot;storm with rain&quot;</td><td>5</td></tr><tr><td>&quot;torrential downpour&quot;</td><td>18</td></tr><tr><td>&quot;fine fog&quot;</td><td>3072</td></tr><tr><td>&quot;soft rain&quot;</td><td>2831</td></tr><tr><td>&quot;smoky air&quot;</td><td>766</td></tr><tr><td>&hellip;</td><td>&hellip;</td></tr><tr><td>&quot;scattered clouds&quot;</td><td>1950</td></tr><tr><td>&quot;light rain&quot;</td><td>138</td></tr><tr><td>&quot;fragmented clouds&quot;</td><td>4650</td></tr><tr><td>&quot;nearby thunderstorm with light…</td><td>1</td></tr><tr><td>&quot;scattered snowflakes&quot;</td><td>11</td></tr></tbody></table></div>"
      ],
      "text/plain": [
       "shape: (34, 2)\n",
       "┌─────────────────────────────────┬───────┐\n",
       "│ Weather_Desc                    ┆ count │\n",
       "│ ---                             ┆ ---   │\n",
       "│ str                             ┆ u32   │\n",
       "╞═════════════════════════════════╪═══════╡\n",
       "│ storm with rain                 ┆ 5     │\n",
       "│ torrential downpour             ┆ 18    │\n",
       "│ fine fog                        ┆ 3072  │\n",
       "│ soft rain                       ┆ 2831  │\n",
       "│ smoky air                       ┆ 766   │\n",
       "│ …                               ┆ …     │\n",
       "│ scattered clouds                ┆ 1950  │\n",
       "│ light rain                      ┆ 138   │\n",
       "│ fragmented clouds               ┆ 4650  │\n",
       "│ nearby thunderstorm with light… ┆ 1     │\n",
       "│ scattered snowflakes            ┆ 11    │\n",
       "└─────────────────────────────────┴───────┘"
      ]
     },
     "execution_count": 83,
     "metadata": {},
     "output_type": "execute_result"
    }
   ],
   "source": [
    "df[\"Weather_Desc\"].value_counts()"
   ]
  },
  {
   "cell_type": "code",
   "execution_count": 85,
   "metadata": {},
   "outputs": [
    {
     "data": {
      "text/html": [
       "<div><style>\n",
       ".dataframe > thead > tr,\n",
       ".dataframe > tbody > tr {\n",
       "  text-align: right;\n",
       "  white-space: pre-wrap;\n",
       "}\n",
       "</style>\n",
       "<small>shape: (2_044, 16)</small><table border=\"1\" class=\"dataframe\"><thead><tr><th>Holiday</th><th>Temperature</th><th>Rainfall_last_hour</th><th>Cloud_Cover</th><th>Weather</th><th>Weather_Desc</th><th>TimeStamp</th><th>Traffic_Vol</th><th>data</th><th>day</th><th>month</th><th>year</th><th>hour</th><th>minute</th><th>weekday_name</th><th>is_weekend</th></tr><tr><td>i64</td><td>f64</td><td>i64</td><td>i64</td><td>str</td><td>str</td><td>datetime[μs]</td><td>i64</td><td>str</td><td>i8</td><td>i8</td><td>i32</td><td>i8</td><td>i8</td><td>str</td><td>i32</td></tr></thead><tbody><tr><td>0</td><td>289.66</td><td>null</td><td>92</td><td>&quot;rainfall&quot;</td><td>&quot;soft rain&quot;</td><td>2009-06-05 10:00:00</td><td>4427</td><td>&quot;Train&quot;</td><td>5</td><td>6</td><td>2009</td><td>10</td><td>0</td><td>&quot;Friday&quot;</td><td>0</td></tr><tr><td>0</td><td>289.41</td><td>null</td><td>93</td><td>&quot;rainfall&quot;</td><td>&quot;steady rain&quot;</td><td>2009-06-05 11:00:00</td><td>4761</td><td>&quot;Train&quot;</td><td>5</td><td>6</td><td>2009</td><td>11</td><td>0</td><td>&quot;Friday&quot;</td><td>0</td></tr><tr><td>0</td><td>290.48</td><td>null</td><td>92</td><td>&quot;rainfall&quot;</td><td>&quot;soft rain&quot;</td><td>2009-06-05 12:00:00</td><td>4967</td><td>&quot;Train&quot;</td><td>5</td><td>6</td><td>2009</td><td>12</td><td>0</td><td>&quot;Friday&quot;</td><td>0</td></tr><tr><td>0</td><td>290.34</td><td>null</td><td>92</td><td>&quot;rainfall&quot;</td><td>&quot;soft rain&quot;</td><td>2009-06-05 13:00:00</td><td>5099</td><td>&quot;Train&quot;</td><td>5</td><td>6</td><td>2009</td><td>13</td><td>0</td><td>&quot;Friday&quot;</td><td>0</td></tr><tr><td>0</td><td>289.6</td><td>null</td><td>92</td><td>&quot;rainfall&quot;</td><td>&quot;soft rain&quot;</td><td>2009-06-05 15:00:00</td><td>6059</td><td>&quot;Train&quot;</td><td>5</td><td>6</td><td>2009</td><td>15</td><td>0</td><td>&quot;Friday&quot;</td><td>0</td></tr><tr><td>&hellip;</td><td>&hellip;</td><td>&hellip;</td><td>&hellip;</td><td>&hellip;</td><td>&hellip;</td><td>&hellip;</td><td>&hellip;</td><td>&hellip;</td><td>&hellip;</td><td>&hellip;</td><td>&hellip;</td><td>&hellip;</td><td>&hellip;</td><td>&hellip;</td><td>&hellip;</td></tr><tr><td>0</td><td>279.93</td><td>null</td><td>76</td><td>&quot;rainfall&quot;</td><td>&quot;soft rain&quot;</td><td>2014-09-26 08:00:00</td><td>null</td><td>&quot;Test&quot;</td><td>26</td><td>9</td><td>2014</td><td>8</td><td>0</td><td>&quot;Friday&quot;</td><td>0</td></tr><tr><td>0</td><td>286.89</td><td>null</td><td>75</td><td>&quot;rainfall&quot;</td><td>&quot;soft rain&quot;</td><td>2014-09-27 05:00:00</td><td>null</td><td>&quot;Test&quot;</td><td>27</td><td>9</td><td>2014</td><td>5</td><td>0</td><td>&quot;Saturday&quot;</td><td>1</td></tr><tr><td>0</td><td>287.18</td><td>null</td><td>90</td><td>&quot;rainfall&quot;</td><td>&quot;soft rain&quot;</td><td>2014-09-27 11:00:00</td><td>null</td><td>&quot;Test&quot;</td><td>27</td><td>9</td><td>2014</td><td>11</td><td>0</td><td>&quot;Saturday&quot;</td><td>1</td></tr><tr><td>0</td><td>276.88</td><td>null</td><td>2</td><td>&quot;rainfall&quot;</td><td>&quot;soft rain&quot;</td><td>2014-09-29 00:00:00</td><td>null</td><td>&quot;Test&quot;</td><td>29</td><td>9</td><td>2014</td><td>0</td><td>0</td><td>&quot;Monday&quot;</td><td>0</td></tr><tr><td>0</td><td>284.9</td><td>null</td><td>75</td><td>&quot;rainfall&quot;</td><td>&quot;soft rain&quot;</td><td>2014-09-30 18:00:00</td><td>null</td><td>&quot;Test&quot;</td><td>30</td><td>9</td><td>2014</td><td>18</td><td>0</td><td>&quot;Tuesday&quot;</td><td>0</td></tr></tbody></table></div>"
      ],
      "text/plain": [
       "shape: (2_044, 16)\n",
       "┌─────────┬─────────────┬─────────────┬─────────────┬───┬──────┬────────┬─────────────┬────────────┐\n",
       "│ Holiday ┆ Temperature ┆ Rainfall_la ┆ Cloud_Cover ┆ … ┆ hour ┆ minute ┆ weekday_nam ┆ is_weekend │\n",
       "│ ---     ┆ ---         ┆ st_hour     ┆ ---         ┆   ┆ ---  ┆ ---    ┆ e           ┆ ---        │\n",
       "│ i64     ┆ f64         ┆ ---         ┆ i64         ┆   ┆ i8   ┆ i8     ┆ ---         ┆ i32        │\n",
       "│         ┆             ┆ i64         ┆             ┆   ┆      ┆        ┆ str         ┆            │\n",
       "╞═════════╪═════════════╪═════════════╪═════════════╪═══╪══════╪════════╪═════════════╪════════════╡\n",
       "│ 0       ┆ 289.66      ┆ null        ┆ 92          ┆ … ┆ 10   ┆ 0      ┆ Friday      ┆ 0          │\n",
       "│ 0       ┆ 289.41      ┆ null        ┆ 93          ┆ … ┆ 11   ┆ 0      ┆ Friday      ┆ 0          │\n",
       "│ 0       ┆ 290.48      ┆ null        ┆ 92          ┆ … ┆ 12   ┆ 0      ┆ Friday      ┆ 0          │\n",
       "│ 0       ┆ 290.34      ┆ null        ┆ 92          ┆ … ┆ 13   ┆ 0      ┆ Friday      ┆ 0          │\n",
       "│ 0       ┆ 289.6       ┆ null        ┆ 92          ┆ … ┆ 15   ┆ 0      ┆ Friday      ┆ 0          │\n",
       "│ …       ┆ …           ┆ …           ┆ …           ┆ … ┆ …    ┆ …      ┆ …           ┆ …          │\n",
       "│ 0       ┆ 279.93      ┆ null        ┆ 76          ┆ … ┆ 8    ┆ 0      ┆ Friday      ┆ 0          │\n",
       "│ 0       ┆ 286.89      ┆ null        ┆ 75          ┆ … ┆ 5    ┆ 0      ┆ Saturday    ┆ 1          │\n",
       "│ 0       ┆ 287.18      ┆ null        ┆ 90          ┆ … ┆ 11   ┆ 0      ┆ Saturday    ┆ 1          │\n",
       "│ 0       ┆ 276.88      ┆ null        ┆ 2           ┆ … ┆ 0    ┆ 0      ┆ Monday      ┆ 0          │\n",
       "│ 0       ┆ 284.9       ┆ null        ┆ 75          ┆ … ┆ 18   ┆ 0      ┆ Tuesday     ┆ 0          │\n",
       "└─────────┴─────────────┴─────────────┴─────────────┴───┴──────┴────────┴─────────────┴────────────┘"
      ]
     },
     "execution_count": 85,
     "metadata": {},
     "output_type": "execute_result"
    }
   ],
   "source": [
    "df.filter(pl.col(\"Rainfall_last_hour\").is_null())"
   ]
  },
  {
   "cell_type": "code",
   "execution_count": 86,
   "metadata": {},
   "outputs": [
    {
     "data": {
      "text/html": [
       "<div><style>\n",
       ".dataframe > thead > tr,\n",
       ".dataframe > tbody > tr {\n",
       "  text-align: right;\n",
       "  white-space: pre-wrap;\n",
       "}\n",
       "</style>\n",
       "<small>shape: (10, 16)</small><table border=\"1\" class=\"dataframe\"><thead><tr><th>Holiday</th><th>Temperature</th><th>Rainfall_last_hour</th><th>Cloud_Cover</th><th>Weather</th><th>Weather_Desc</th><th>TimeStamp</th><th>Traffic_Vol</th><th>data</th><th>day</th><th>month</th><th>year</th><th>hour</th><th>minute</th><th>weekday_name</th><th>is_weekend</th></tr><tr><td>i64</td><td>f64</td><td>i64</td><td>i64</td><td>str</td><td>str</td><td>datetime[μs]</td><td>i64</td><td>str</td><td>i8</td><td>i8</td><td>i32</td><td>i8</td><td>i8</td><td>str</td><td>i32</td></tr></thead><tbody><tr><td>0</td><td>287.68</td><td>1</td><td>68</td><td>&quot;rainfall&quot;</td><td>&quot;soft rain&quot;</td><td>2009-06-10 04:00:00</td><td>772</td><td>&quot;Train&quot;</td><td>10</td><td>6</td><td>2009</td><td>4</td><td>0</td><td>&quot;Wednesday&quot;</td><td>0</td></tr><tr><td>0</td><td>297.16</td><td>16</td><td>32</td><td>&quot;rainfall&quot;</td><td>&quot;intense rainfall&quot;</td><td>2009-07-10 08:00:00</td><td>6305</td><td>&quot;Train&quot;</td><td>10</td><td>7</td><td>2009</td><td>8</td><td>0</td><td>&quot;Friday&quot;</td><td>0</td></tr><tr><td>0</td><td>285.9</td><td>1</td><td>90</td><td>&quot;rainfall&quot;</td><td>&quot;soft rain&quot;</td><td>2010-05-19 22:00:00</td><td>1523</td><td>&quot;Train&quot;</td><td>19</td><td>5</td><td>2010</td><td>22</td><td>0</td><td>&quot;Wednesday&quot;</td><td>0</td></tr><tr><td>0</td><td>287.71</td><td>4</td><td>92</td><td>&quot;rainfall&quot;</td><td>&quot;steady rain&quot;</td><td>2010-06-07 06:00:00</td><td>1683</td><td>&quot;Train&quot;</td><td>7</td><td>6</td><td>2010</td><td>6</td><td>0</td><td>&quot;Monday&quot;</td><td>0</td></tr><tr><td>0</td><td>296.47</td><td>1</td><td>32</td><td>&quot;rainfall&quot;</td><td>&quot;soft rain&quot;</td><td>2010-06-17 23:00:00</td><td>1182</td><td>&quot;Train&quot;</td><td>17</td><td>6</td><td>2010</td><td>23</td><td>0</td><td>&quot;Thursday&quot;</td><td>0</td></tr><tr><td>0</td><td>294.93</td><td>1</td><td>1</td><td>&quot;rainfall&quot;</td><td>&quot;soft rain&quot;</td><td>2011-06-29 09:00:00</td><td>4644</td><td>&quot;Train&quot;</td><td>29</td><td>6</td><td>2011</td><td>9</td><td>0</td><td>&quot;Wednesday&quot;</td><td>0</td></tr><tr><td>0</td><td>292.17</td><td>1</td><td>2</td><td>&quot;rainfall&quot;</td><td>&quot;soft rain&quot;</td><td>2012-07-25 03:00:00</td><td>346</td><td>&quot;Train&quot;</td><td>25</td><td>7</td><td>2012</td><td>3</td><td>0</td><td>&quot;Wednesday&quot;</td><td>0</td></tr><tr><td>0</td><td>292.68</td><td>9</td><td>9</td><td>&quot;rainfall&quot;</td><td>&quot;intense rainfall&quot;</td><td>2012-08-11 03:00:00</td><td>483</td><td>&quot;Train&quot;</td><td>11</td><td>8</td><td>2012</td><td>3</td><td>0</td><td>&quot;Saturday&quot;</td><td>1</td></tr><tr><td>0</td><td>296.88</td><td>1</td><td>40</td><td>&quot;rainfall&quot;</td><td>&quot;intense rainfall&quot;</td><td>2012-09-06 05:00:00</td><td>2609</td><td>&quot;Train&quot;</td><td>6</td><td>9</td><td>2012</td><td>5</td><td>0</td><td>&quot;Thursday&quot;</td><td>0</td></tr><tr><td>0</td><td>292.74</td><td>4</td><td>90</td><td>&quot;rainfall&quot;</td><td>&quot;nearby rain showers&quot;</td><td>2014-08-24 11:00:00</td><td>null</td><td>&quot;Test&quot;</td><td>24</td><td>8</td><td>2014</td><td>11</td><td>0</td><td>&quot;Sunday&quot;</td><td>1</td></tr></tbody></table></div>"
      ],
      "text/plain": [
       "shape: (10, 16)\n",
       "┌─────────┬─────────────┬─────────────┬─────────────┬───┬──────┬────────┬─────────────┬────────────┐\n",
       "│ Holiday ┆ Temperature ┆ Rainfall_la ┆ Cloud_Cover ┆ … ┆ hour ┆ minute ┆ weekday_nam ┆ is_weekend │\n",
       "│ ---     ┆ ---         ┆ st_hour     ┆ ---         ┆   ┆ ---  ┆ ---    ┆ e           ┆ ---        │\n",
       "│ i64     ┆ f64         ┆ ---         ┆ i64         ┆   ┆ i8   ┆ i8     ┆ ---         ┆ i32        │\n",
       "│         ┆             ┆ i64         ┆             ┆   ┆      ┆        ┆ str         ┆            │\n",
       "╞═════════╪═════════════╪═════════════╪═════════════╪═══╪══════╪════════╪═════════════╪════════════╡\n",
       "│ 0       ┆ 287.68      ┆ 1           ┆ 68          ┆ … ┆ 4    ┆ 0      ┆ Wednesday   ┆ 0          │\n",
       "│ 0       ┆ 297.16      ┆ 16          ┆ 32          ┆ … ┆ 8    ┆ 0      ┆ Friday      ┆ 0          │\n",
       "│ 0       ┆ 285.9       ┆ 1           ┆ 90          ┆ … ┆ 22   ┆ 0      ┆ Wednesday   ┆ 0          │\n",
       "│ 0       ┆ 287.71      ┆ 4           ┆ 92          ┆ … ┆ 6    ┆ 0      ┆ Monday      ┆ 0          │\n",
       "│ 0       ┆ 296.47      ┆ 1           ┆ 32          ┆ … ┆ 23   ┆ 0      ┆ Thursday    ┆ 0          │\n",
       "│ 0       ┆ 294.93      ┆ 1           ┆ 1           ┆ … ┆ 9    ┆ 0      ┆ Wednesday   ┆ 0          │\n",
       "│ 0       ┆ 292.17      ┆ 1           ┆ 2           ┆ … ┆ 3    ┆ 0      ┆ Wednesday   ┆ 0          │\n",
       "│ 0       ┆ 292.68      ┆ 9           ┆ 9           ┆ … ┆ 3    ┆ 0      ┆ Saturday    ┆ 1          │\n",
       "│ 0       ┆ 296.88      ┆ 1           ┆ 40          ┆ … ┆ 5    ┆ 0      ┆ Thursday    ┆ 0          │\n",
       "│ 0       ┆ 292.74      ┆ 4           ┆ 90          ┆ … ┆ 11   ┆ 0      ┆ Sunday      ┆ 1          │\n",
       "└─────────┴─────────────┴─────────────┴─────────────┴───┴──────┴────────┴─────────────┴────────────┘"
      ]
     },
     "execution_count": 86,
     "metadata": {},
     "output_type": "execute_result"
    }
   ],
   "source": [
    "df.filter(pl.col(\"Rainfall_last_hour\") > 0)"
   ]
  },
  {
   "cell_type": "code",
   "execution_count": 120,
   "metadata": {},
   "outputs": [],
   "source": [
    "df = df.with_columns(\n",
    "    pl.when(pl.col(\"Rainfall_last_hour\").is_null() & pl.col(\"Weather_Desc\").str.contains(\"rain\")).then(1).otherwise(0).alias(\"Rainfall_last_hour\"),\n",
    ")"
   ]
  },
  {
   "cell_type": "code",
   "execution_count": 121,
   "metadata": {},
   "outputs": [
    {
     "data": {
      "text/html": [
       "<div><style>\n",
       ".dataframe > thead > tr,\n",
       ".dataframe > tbody > tr {\n",
       "  text-align: right;\n",
       "  white-space: pre-wrap;\n",
       "}\n",
       "</style>\n",
       "<small>shape: (1, 16)</small><table border=\"1\" class=\"dataframe\"><thead><tr><th>Temperature</th><th>Rainfall_last_hour</th><th>Cloud_Cover</th><th>Weather</th><th>Weather_Desc</th><th>TimeStamp</th><th>Traffic_Vol</th><th>data</th><th>Holiday</th><th>day</th><th>month</th><th>year</th><th>hour</th><th>minute</th><th>weekday_name</th><th>is_weekend</th></tr><tr><td>u32</td><td>u32</td><td>u32</td><td>u32</td><td>u32</td><td>u32</td><td>u32</td><td>u32</td><td>u32</td><td>u32</td><td>u32</td><td>u32</td><td>u32</td><td>u32</td><td>u32</td><td>u32</td></tr></thead><tbody><tr><td>0</td><td>0</td><td>0</td><td>0</td><td>0</td><td>0</td><td>2208</td><td>0</td><td>0</td><td>0</td><td>0</td><td>0</td><td>0</td><td>0</td><td>0</td><td>0</td></tr></tbody></table></div>"
      ],
      "text/plain": [
       "shape: (1, 16)\n",
       "┌─────────────┬─────────────┬─────────────┬─────────┬───┬──────┬────────┬─────────────┬────────────┐\n",
       "│ Temperature ┆ Rainfall_la ┆ Cloud_Cover ┆ Weather ┆ … ┆ hour ┆ minute ┆ weekday_nam ┆ is_weekend │\n",
       "│ ---         ┆ st_hour     ┆ ---         ┆ ---     ┆   ┆ ---  ┆ ---    ┆ e           ┆ ---        │\n",
       "│ u32         ┆ ---         ┆ u32         ┆ u32     ┆   ┆ u32  ┆ u32    ┆ ---         ┆ u32        │\n",
       "│             ┆ u32         ┆             ┆         ┆   ┆      ┆        ┆ u32         ┆            │\n",
       "╞═════════════╪═════════════╪═════════════╪═════════╪═══╪══════╪════════╪═════════════╪════════════╡\n",
       "│ 0           ┆ 0           ┆ 0           ┆ 0       ┆ … ┆ 0    ┆ 0      ┆ 0           ┆ 0          │\n",
       "└─────────────┴─────────────┴─────────────┴─────────┴───┴──────┴────────┴─────────────┴────────────┘"
      ]
     },
     "execution_count": 121,
     "metadata": {},
     "output_type": "execute_result"
    }
   ],
   "source": [
    "df.null_count()"
   ]
  },
  {
   "cell_type": "code",
   "execution_count": 123,
   "metadata": {},
   "outputs": [],
   "source": [
    "df=df.drop(\"Weather_Desc\")"
   ]
  },
  {
   "cell_type": "code",
   "execution_count": null,
   "metadata": {},
   "outputs": [],
   "source": []
  },
  {
   "cell_type": "code",
   "execution_count": 124,
   "metadata": {},
   "outputs": [],
   "source": [
    "df.write_parquet(\"../data/cleaned/df.parquet\")"
   ]
  },
  {
   "cell_type": "code",
   "execution_count": null,
   "metadata": {},
   "outputs": [],
   "source": []
  }
 ],
 "metadata": {
  "kernelspec": {
   "display_name": "Python 3",
   "language": "python",
   "name": "python3"
  },
  "language_info": {
   "codemirror_mode": {
    "name": "ipython",
    "version": 3
   },
   "file_extension": ".py",
   "mimetype": "text/x-python",
   "name": "python",
   "nbconvert_exporter": "python",
   "pygments_lexer": "ipython3",
   "version": "3.11.9"
  }
 },
 "nbformat": 4,
 "nbformat_minor": 2
}
